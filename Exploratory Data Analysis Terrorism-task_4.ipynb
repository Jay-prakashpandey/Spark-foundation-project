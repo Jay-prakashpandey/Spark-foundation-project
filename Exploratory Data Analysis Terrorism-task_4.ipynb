{
 "cells": [
  {
   "cell_type": "markdown",
   "metadata": {},
   "source": [
    "# task-4\n",
    "\n",
    "# **GRIP @ The Sparks Foundation**\n",
    "\n",
    "**Exploratory Data Analysis - Terrorism (Level - Intermediate)**\n",
    "\n",
    "BY: Jay Prakash Pandey\n",
    "\n",
    "*Perform ‘Exploratory Data Analysis’ on dataset ‘Global Terrorism’*\n",
    "\n",
    "**Problem:**\n",
    "* As a security/defense analyst, try to find out the hot zone of terrorism.\n",
    "* What all security issues and insights you can derive by EDA?*\n",
    "\n",
    "*● Dataset: https://bit.ly/2TK5Xn5*\n"
   ]
  },
  {
   "cell_type": "markdown",
   "metadata": {},
   "source": [
    "### Importing Libraries"
   ]
  },
  {
   "cell_type": "code",
   "execution_count": 1,
   "metadata": {},
   "outputs": [],
   "source": [
    "import numpy as np \n",
    "import pandas as pd\n",
    "import matplotlib.pyplot as plt\n",
    "import seaborn as sns\n",
    "#import plotly.graph_objs as go\n",
    "#from plotly.offline import download_plotlyjs,init_notebook_mode,plot,iplot\n",
    "#import folium \n",
    "#from folium import plugins\n",
    "#from folium.plugins import HeatMap\n",
    "import matplotlib.patches as mpatches\n",
    "#import nltk\n",
    "#from nltk import *\n",
    "#from wordcloud import WordCloud, STOPWORDS\n",
    "import matplotlib.gridspec as gridspec\n",
    "import warnings\n",
    "warnings.filterwarnings(\"ignore\")\n",
    "%matplotlib inline\n"
   ]
  },
  {
   "cell_type": "code",
   "execution_count": 2,
   "metadata": {},
   "outputs": [],
   "source": [
    "terror = pd.read_csv('globalterrorismdb_0718dist.csv', encoding=\"ISO-8859-1\", low_memory=False)"
   ]
  },
  {
   "cell_type": "code",
   "execution_count": 3,
   "metadata": {},
   "outputs": [
    {
     "data": {
      "text/html": [
       "<div>\n",
       "<style scoped>\n",
       "    .dataframe tbody tr th:only-of-type {\n",
       "        vertical-align: middle;\n",
       "    }\n",
       "\n",
       "    .dataframe tbody tr th {\n",
       "        vertical-align: top;\n",
       "    }\n",
       "\n",
       "    .dataframe thead th {\n",
       "        text-align: right;\n",
       "    }\n",
       "</style>\n",
       "<table border=\"1\" class=\"dataframe\">\n",
       "  <thead>\n",
       "    <tr style=\"text-align: right;\">\n",
       "      <th></th>\n",
       "      <th>eventid</th>\n",
       "      <th>iyear</th>\n",
       "      <th>imonth</th>\n",
       "      <th>iday</th>\n",
       "      <th>approxdate</th>\n",
       "      <th>extended</th>\n",
       "      <th>resolution</th>\n",
       "      <th>country</th>\n",
       "      <th>country_txt</th>\n",
       "      <th>region</th>\n",
       "      <th>...</th>\n",
       "      <th>addnotes</th>\n",
       "      <th>scite1</th>\n",
       "      <th>scite2</th>\n",
       "      <th>scite3</th>\n",
       "      <th>dbsource</th>\n",
       "      <th>INT_LOG</th>\n",
       "      <th>INT_IDEO</th>\n",
       "      <th>INT_MISC</th>\n",
       "      <th>INT_ANY</th>\n",
       "      <th>related</th>\n",
       "    </tr>\n",
       "  </thead>\n",
       "  <tbody>\n",
       "    <tr>\n",
       "      <th>0</th>\n",
       "      <td>197000000001</td>\n",
       "      <td>1970</td>\n",
       "      <td>7</td>\n",
       "      <td>2</td>\n",
       "      <td>NaN</td>\n",
       "      <td>0</td>\n",
       "      <td>NaN</td>\n",
       "      <td>58</td>\n",
       "      <td>Dominican Republic</td>\n",
       "      <td>2</td>\n",
       "      <td>...</td>\n",
       "      <td>NaN</td>\n",
       "      <td>NaN</td>\n",
       "      <td>NaN</td>\n",
       "      <td>NaN</td>\n",
       "      <td>PGIS</td>\n",
       "      <td>0</td>\n",
       "      <td>0</td>\n",
       "      <td>0</td>\n",
       "      <td>0</td>\n",
       "      <td>NaN</td>\n",
       "    </tr>\n",
       "    <tr>\n",
       "      <th>1</th>\n",
       "      <td>197000000002</td>\n",
       "      <td>1970</td>\n",
       "      <td>0</td>\n",
       "      <td>0</td>\n",
       "      <td>NaN</td>\n",
       "      <td>0</td>\n",
       "      <td>NaN</td>\n",
       "      <td>130</td>\n",
       "      <td>Mexico</td>\n",
       "      <td>1</td>\n",
       "      <td>...</td>\n",
       "      <td>NaN</td>\n",
       "      <td>NaN</td>\n",
       "      <td>NaN</td>\n",
       "      <td>NaN</td>\n",
       "      <td>PGIS</td>\n",
       "      <td>0</td>\n",
       "      <td>1</td>\n",
       "      <td>1</td>\n",
       "      <td>1</td>\n",
       "      <td>NaN</td>\n",
       "    </tr>\n",
       "    <tr>\n",
       "      <th>2</th>\n",
       "      <td>197001000001</td>\n",
       "      <td>1970</td>\n",
       "      <td>1</td>\n",
       "      <td>0</td>\n",
       "      <td>NaN</td>\n",
       "      <td>0</td>\n",
       "      <td>NaN</td>\n",
       "      <td>160</td>\n",
       "      <td>Philippines</td>\n",
       "      <td>5</td>\n",
       "      <td>...</td>\n",
       "      <td>NaN</td>\n",
       "      <td>NaN</td>\n",
       "      <td>NaN</td>\n",
       "      <td>NaN</td>\n",
       "      <td>PGIS</td>\n",
       "      <td>-9</td>\n",
       "      <td>-9</td>\n",
       "      <td>1</td>\n",
       "      <td>1</td>\n",
       "      <td>NaN</td>\n",
       "    </tr>\n",
       "    <tr>\n",
       "      <th>3</th>\n",
       "      <td>197001000002</td>\n",
       "      <td>1970</td>\n",
       "      <td>1</td>\n",
       "      <td>0</td>\n",
       "      <td>NaN</td>\n",
       "      <td>0</td>\n",
       "      <td>NaN</td>\n",
       "      <td>78</td>\n",
       "      <td>Greece</td>\n",
       "      <td>8</td>\n",
       "      <td>...</td>\n",
       "      <td>NaN</td>\n",
       "      <td>NaN</td>\n",
       "      <td>NaN</td>\n",
       "      <td>NaN</td>\n",
       "      <td>PGIS</td>\n",
       "      <td>-9</td>\n",
       "      <td>-9</td>\n",
       "      <td>1</td>\n",
       "      <td>1</td>\n",
       "      <td>NaN</td>\n",
       "    </tr>\n",
       "    <tr>\n",
       "      <th>4</th>\n",
       "      <td>197001000003</td>\n",
       "      <td>1970</td>\n",
       "      <td>1</td>\n",
       "      <td>0</td>\n",
       "      <td>NaN</td>\n",
       "      <td>0</td>\n",
       "      <td>NaN</td>\n",
       "      <td>101</td>\n",
       "      <td>Japan</td>\n",
       "      <td>4</td>\n",
       "      <td>...</td>\n",
       "      <td>NaN</td>\n",
       "      <td>NaN</td>\n",
       "      <td>NaN</td>\n",
       "      <td>NaN</td>\n",
       "      <td>PGIS</td>\n",
       "      <td>-9</td>\n",
       "      <td>-9</td>\n",
       "      <td>1</td>\n",
       "      <td>1</td>\n",
       "      <td>NaN</td>\n",
       "    </tr>\n",
       "  </tbody>\n",
       "</table>\n",
       "<p>5 rows × 135 columns</p>\n",
       "</div>"
      ],
      "text/plain": [
       "        eventid  iyear  imonth  iday approxdate  extended resolution  country  \\\n",
       "0  197000000001   1970       7     2        NaN         0        NaN       58   \n",
       "1  197000000002   1970       0     0        NaN         0        NaN      130   \n",
       "2  197001000001   1970       1     0        NaN         0        NaN      160   \n",
       "3  197001000002   1970       1     0        NaN         0        NaN       78   \n",
       "4  197001000003   1970       1     0        NaN         0        NaN      101   \n",
       "\n",
       "          country_txt  region  ... addnotes scite1 scite2  scite3  dbsource  \\\n",
       "0  Dominican Republic       2  ...      NaN    NaN    NaN     NaN      PGIS   \n",
       "1              Mexico       1  ...      NaN    NaN    NaN     NaN      PGIS   \n",
       "2         Philippines       5  ...      NaN    NaN    NaN     NaN      PGIS   \n",
       "3              Greece       8  ...      NaN    NaN    NaN     NaN      PGIS   \n",
       "4               Japan       4  ...      NaN    NaN    NaN     NaN      PGIS   \n",
       "\n",
       "   INT_LOG  INT_IDEO INT_MISC INT_ANY  related  \n",
       "0        0         0        0       0      NaN  \n",
       "1        0         1        1       1      NaN  \n",
       "2       -9        -9        1       1      NaN  \n",
       "3       -9        -9        1       1      NaN  \n",
       "4       -9        -9        1       1      NaN  \n",
       "\n",
       "[5 rows x 135 columns]"
      ]
     },
     "execution_count": 3,
     "metadata": {},
     "output_type": "execute_result"
    }
   ],
   "source": [
    "terror.head()"
   ]
  },
  {
   "cell_type": "markdown",
   "metadata": {},
   "source": [
    "### Data Dictionary"
   ]
  },
  {
   "cell_type": "markdown",
   "metadata": {},
   "source": [
    "* 'iyear' : year of the incident\n",
    "\n",
    "* 'imonth' : month of the incident\n",
    "\n",
    "* 'iday' : day of the incident\n",
    "\n",
    "* 'nkill' : number of dead\n",
    "\n",
    "* 'nwound' : number of wounded\n",
    "\n",
    "* extended' : has the incident lasted for more than 24 hours?\n",
    "\n",
    "* 'multiple' : is the incident connected to other attacks?\n",
    "\n",
    "* 'success' : did the terrorist attack achieve its goal (i.e. assassination, etc.)?\n",
    "\n",
    "* 'suicide' : did the incident involve a suicide attack?\n",
    "\n",
    "* 'guncertain1' : was the terrorist group confirmed?\n",
    "\n",
    "* 'attacktype1_txt' : general method of attack used (i.e. assassination, hijacking, bombing/explosion, etc.)\n",
    "\n",
    "* 'targtype1_txt' : general type of target/victim (i.e. business, government, police, military, etc.)\n",
    "\n",
    "* 'natlty1_txt' : nationality of the target/victim\n",
    "\n",
    "* 'weaptype1_txt' : general type of weapon used in the incident (i.e. biological, chemical, firearms, etc.)\n",
    "\n",
    "* 'target1' : specific person, building, installation, etc. that was targeted \"\n",
    "\n"
   ]
  },
  {
   "cell_type": "markdown",
   "metadata": {},
   "source": [
    "### It is best to always drop the features that are not needed for analysis"
   ]
  },
  {
   "cell_type": "code",
   "execution_count": 4,
   "metadata": {},
   "outputs": [],
   "source": [
    "terror.rename(columns={'iyear':'Year','imonth':'Month','iday':'Day','country_txt':'Country','provstate':'state','region_txt':'Region','attacktype1_txt':'AttackType','target1':'Target','nkill':'Killed','nwound':'Wounded','summary':'Summary','gname':'Group','targtype1_txt':'Target_type','weaptype1_txt':'Weapon_type','motive':'Motive'},inplace=True)"
   ]
  },
  {
   "cell_type": "code",
   "execution_count": 5,
   "metadata": {},
   "outputs": [
    {
     "data": {
      "text/html": [
       "<div>\n",
       "<style scoped>\n",
       "    .dataframe tbody tr th:only-of-type {\n",
       "        vertical-align: middle;\n",
       "    }\n",
       "\n",
       "    .dataframe tbody tr th {\n",
       "        vertical-align: top;\n",
       "    }\n",
       "\n",
       "    .dataframe thead th {\n",
       "        text-align: right;\n",
       "    }\n",
       "</style>\n",
       "<table border=\"1\" class=\"dataframe\">\n",
       "  <thead>\n",
       "    <tr style=\"text-align: right;\">\n",
       "      <th></th>\n",
       "      <th>Year</th>\n",
       "      <th>Month</th>\n",
       "      <th>Day</th>\n",
       "      <th>Country</th>\n",
       "      <th>state</th>\n",
       "      <th>Region</th>\n",
       "      <th>city</th>\n",
       "      <th>latitude</th>\n",
       "      <th>longitude</th>\n",
       "      <th>AttackType</th>\n",
       "      <th>...</th>\n",
       "      <th>targtype2_txt</th>\n",
       "      <th>targtype3_txt</th>\n",
       "      <th>weaptype2_txt</th>\n",
       "      <th>weaptype3_txt</th>\n",
       "      <th>weaptype4_txt</th>\n",
       "      <th>claimmode_txt</th>\n",
       "      <th>propextent_txt</th>\n",
       "      <th>propvalue</th>\n",
       "      <th>attacktype2_txt</th>\n",
       "      <th>attacktype3_txt</th>\n",
       "    </tr>\n",
       "  </thead>\n",
       "  <tbody>\n",
       "    <tr>\n",
       "      <th>0</th>\n",
       "      <td>1970</td>\n",
       "      <td>7</td>\n",
       "      <td>2</td>\n",
       "      <td>Dominican Republic</td>\n",
       "      <td>NaN</td>\n",
       "      <td>Central America &amp; Caribbean</td>\n",
       "      <td>Santo Domingo</td>\n",
       "      <td>18.456792</td>\n",
       "      <td>-69.951164</td>\n",
       "      <td>Assassination</td>\n",
       "      <td>...</td>\n",
       "      <td>NaN</td>\n",
       "      <td>NaN</td>\n",
       "      <td>NaN</td>\n",
       "      <td>NaN</td>\n",
       "      <td>NaN</td>\n",
       "      <td>NaN</td>\n",
       "      <td>NaN</td>\n",
       "      <td>NaN</td>\n",
       "      <td>NaN</td>\n",
       "      <td>NaN</td>\n",
       "    </tr>\n",
       "    <tr>\n",
       "      <th>1</th>\n",
       "      <td>1970</td>\n",
       "      <td>0</td>\n",
       "      <td>0</td>\n",
       "      <td>Mexico</td>\n",
       "      <td>Federal</td>\n",
       "      <td>North America</td>\n",
       "      <td>Mexico city</td>\n",
       "      <td>19.371887</td>\n",
       "      <td>-99.086624</td>\n",
       "      <td>Hostage Taking (Kidnapping)</td>\n",
       "      <td>...</td>\n",
       "      <td>NaN</td>\n",
       "      <td>NaN</td>\n",
       "      <td>NaN</td>\n",
       "      <td>NaN</td>\n",
       "      <td>NaN</td>\n",
       "      <td>NaN</td>\n",
       "      <td>NaN</td>\n",
       "      <td>NaN</td>\n",
       "      <td>NaN</td>\n",
       "      <td>NaN</td>\n",
       "    </tr>\n",
       "    <tr>\n",
       "      <th>2</th>\n",
       "      <td>1970</td>\n",
       "      <td>1</td>\n",
       "      <td>0</td>\n",
       "      <td>Philippines</td>\n",
       "      <td>Tarlac</td>\n",
       "      <td>Southeast Asia</td>\n",
       "      <td>Unknown</td>\n",
       "      <td>15.478598</td>\n",
       "      <td>120.599741</td>\n",
       "      <td>Assassination</td>\n",
       "      <td>...</td>\n",
       "      <td>NaN</td>\n",
       "      <td>NaN</td>\n",
       "      <td>NaN</td>\n",
       "      <td>NaN</td>\n",
       "      <td>NaN</td>\n",
       "      <td>NaN</td>\n",
       "      <td>NaN</td>\n",
       "      <td>NaN</td>\n",
       "      <td>NaN</td>\n",
       "      <td>NaN</td>\n",
       "    </tr>\n",
       "    <tr>\n",
       "      <th>3</th>\n",
       "      <td>1970</td>\n",
       "      <td>1</td>\n",
       "      <td>0</td>\n",
       "      <td>Greece</td>\n",
       "      <td>Attica</td>\n",
       "      <td>Western Europe</td>\n",
       "      <td>Athens</td>\n",
       "      <td>37.997490</td>\n",
       "      <td>23.762728</td>\n",
       "      <td>Bombing/Explosion</td>\n",
       "      <td>...</td>\n",
       "      <td>NaN</td>\n",
       "      <td>NaN</td>\n",
       "      <td>NaN</td>\n",
       "      <td>NaN</td>\n",
       "      <td>NaN</td>\n",
       "      <td>NaN</td>\n",
       "      <td>NaN</td>\n",
       "      <td>NaN</td>\n",
       "      <td>NaN</td>\n",
       "      <td>NaN</td>\n",
       "    </tr>\n",
       "    <tr>\n",
       "      <th>4</th>\n",
       "      <td>1970</td>\n",
       "      <td>1</td>\n",
       "      <td>0</td>\n",
       "      <td>Japan</td>\n",
       "      <td>Fukouka</td>\n",
       "      <td>East Asia</td>\n",
       "      <td>Fukouka</td>\n",
       "      <td>33.580412</td>\n",
       "      <td>130.396361</td>\n",
       "      <td>Facility/Infrastructure Attack</td>\n",
       "      <td>...</td>\n",
       "      <td>NaN</td>\n",
       "      <td>NaN</td>\n",
       "      <td>NaN</td>\n",
       "      <td>NaN</td>\n",
       "      <td>NaN</td>\n",
       "      <td>NaN</td>\n",
       "      <td>NaN</td>\n",
       "      <td>NaN</td>\n",
       "      <td>NaN</td>\n",
       "      <td>NaN</td>\n",
       "    </tr>\n",
       "  </tbody>\n",
       "</table>\n",
       "<p>5 rows × 29 columns</p>\n",
       "</div>"
      ],
      "text/plain": [
       "   Year  Month  Day             Country    state                       Region  \\\n",
       "0  1970      7    2  Dominican Republic      NaN  Central America & Caribbean   \n",
       "1  1970      0    0              Mexico  Federal                North America   \n",
       "2  1970      1    0         Philippines   Tarlac               Southeast Asia   \n",
       "3  1970      1    0              Greece   Attica               Western Europe   \n",
       "4  1970      1    0               Japan  Fukouka                    East Asia   \n",
       "\n",
       "            city   latitude   longitude                      AttackType  ...  \\\n",
       "0  Santo Domingo  18.456792  -69.951164                   Assassination  ...   \n",
       "1    Mexico city  19.371887  -99.086624     Hostage Taking (Kidnapping)  ...   \n",
       "2        Unknown  15.478598  120.599741                   Assassination  ...   \n",
       "3         Athens  37.997490   23.762728               Bombing/Explosion  ...   \n",
       "4        Fukouka  33.580412  130.396361  Facility/Infrastructure Attack  ...   \n",
       "\n",
       "   targtype2_txt  targtype3_txt weaptype2_txt  weaptype3_txt weaptype4_txt  \\\n",
       "0            NaN            NaN           NaN            NaN           NaN   \n",
       "1            NaN            NaN           NaN            NaN           NaN   \n",
       "2            NaN            NaN           NaN            NaN           NaN   \n",
       "3            NaN            NaN           NaN            NaN           NaN   \n",
       "4            NaN            NaN           NaN            NaN           NaN   \n",
       "\n",
       "  claimmode_txt propextent_txt propvalue attacktype2_txt attacktype3_txt  \n",
       "0           NaN            NaN       NaN             NaN             NaN  \n",
       "1           NaN            NaN       NaN             NaN             NaN  \n",
       "2           NaN            NaN       NaN             NaN             NaN  \n",
       "3           NaN            NaN       NaN             NaN             NaN  \n",
       "4           NaN            NaN       NaN             NaN             NaN  \n",
       "\n",
       "[5 rows x 29 columns]"
      ]
     },
     "execution_count": 5,
     "metadata": {},
     "output_type": "execute_result"
    }
   ],
   "source": [
    "terror=terror[['Year','Month','Day','Country','state','Region','city','latitude','longitude','AttackType','Killed','Wounded','Target','suicide','Summary','Group','Target_type','Motive','Weapon_type','targtype2_txt','targtype3_txt','weaptype2_txt','weaptype3_txt','weaptype4_txt','claimmode_txt','propextent_txt','propvalue','attacktype2_txt','attacktype3_txt',]]\n",
    "terror.head()"
   ]
  },
  {
   "cell_type": "markdown",
   "metadata": {},
   "source": [
    "### Checking For Null values"
   ]
  },
  {
   "cell_type": "markdown",
   "metadata": {},
   "source": [
    "# need to change the motive null value"
   ]
  },
  {
   "cell_type": "code",
   "execution_count": 6,
   "metadata": {},
   "outputs": [
    {
     "data": {
      "text/plain": [
       "weaptype4_txt      181618\n",
       "attacktype3_txt    181263\n",
       "targtype3_txt      180515\n",
       "weaptype3_txt      179828\n",
       "attacktype2_txt    175377\n",
       "targtype2_txt      170547\n",
       "weaptype2_txt      168564\n",
       "claimmode_txt      162608\n",
       "propvalue          142702\n",
       "Motive             131130\n",
       "propextent_txt     117626\n",
       "Summary             66129\n",
       "Wounded             16311\n",
       "Killed              10313\n",
       "longitude            4557\n",
       "latitude             4556\n",
       "Target                636\n",
       "city                  434\n",
       "state                 421\n",
       "Day                     0\n",
       "Country                 0\n",
       "Region                  0\n",
       "AttackType              0\n",
       "suicide                 0\n",
       "Weapon_type             0\n",
       "Target_type             0\n",
       "Group                   0\n",
       "Month                   0\n",
       "Year                    0\n",
       "dtype: int64"
      ]
     },
     "execution_count": 6,
     "metadata": {},
     "output_type": "execute_result"
    }
   ],
   "source": [
    "terror.isna().sum().sort_values(ascending=False)"
   ]
  },
  {
   "cell_type": "markdown",
   "metadata": {},
   "source": [
    "* ######  Here, motive is the feature that contains most of the null values. This is obvious that the terrorist group which involved in the attack have to confess the motive. Untill that nobody know the motive of the attack.\n",
    "\n"
   ]
  },
  {
   "cell_type": "code",
   "execution_count": 7,
   "metadata": {},
   "outputs": [
    {
     "data": {
      "text/plain": [
       "<AxesSubplot:>"
      ]
     },
     "execution_count": 7,
     "metadata": {},
     "output_type": "execute_result"
    },
    {
     "data": {
      "image/png": "[encoded data removed]",
      "text/plain": [
       "<Figure size 1296x576 with 2 Axes>"
      ]
     },
     "metadata": {
      "needs_background": "light"
     },
     "output_type": "display_data"
    }
   ],
   "source": [
    "#correlation map \n",
    "#correlation map helps us to understanding beetwen the features relations. It means that we can understand the columns relations with each other thanks to correlation map\n",
    "\n",
    "f,ax = plt.subplots(figsize=(18,8)) \n",
    "sns.heatmap(terror.corr(), annot=True)"
   ]
  },
  {
   "cell_type": "markdown",
   "metadata": {},
   "source": [
    "* ##### We can see the correlation between Killed and Wounded are postive correlated "
   ]
  },
  {
   "cell_type": "markdown",
   "metadata": {},
   "source": [
    "## The analysis is carried out at different levels:\n",
    "\t\t1. Terrorist Group\n",
    "\t\t2. Attack types and Claiming modes\n",
    "\t\t3. Weapons used and Suicide Attacks\n",
    "\t\t4. Most Affected Target \n",
    "\t\t5. Most Casualities \n",
    "\t\t6. Top Countries and cities\n",
    "\t\t7. Sentimental analysis based on wordclouds "
   ]
  },
  {
   "cell_type": "markdown",
   "metadata": {},
   "source": [
    "### Preliminary Assesments - Highest preference of Terror Events happened in..."
   ]
  },
  {
   "cell_type": "code",
   "execution_count": 8,
   "metadata": {},
   "outputs": [
    {
     "name": "stdout",
     "output_type": "stream",
     "text": [
      "Country with the most attacks: Iraq\n",
      "City with the most attacks: Baghdad\n",
      "Region with the most attacks: Middle East & North Africa\n",
      "Year with the most attacks: 2014\n",
      "Month with the most attacks: 5\n",
      "Group with the most attacks: Taliban\n",
      "Most Attack Types: Bombing/Explosion\n",
      "Maximum people killed in an attack are: 1570.0 that took place in Iraq\n"
     ]
    }
   ],
   "source": [
    "print(\"Country with the most attacks:\",terror['Country'].value_counts().idxmax())\n",
    "print(\"City with the most attacks:\",terror['city'].value_counts().index[1]) #as first entry is 'unknown'\n",
    "print(\"Region with the most attacks:\",terror['Region'].value_counts().idxmax())\n",
    "print(\"Year with the most attacks:\",terror['Year'].value_counts().idxmax())\n",
    "print(\"Month with the most attacks:\",terror['Month'].value_counts().idxmax())\n",
    "print(\"Group with the most attacks:\",terror['Group'].value_counts().index[1])\n",
    "print(\"Most Attack Types:\",terror['AttackType'].value_counts().idxmax())\n",
    "print('Maximum people killed in an attack are:',terror['Killed'].max(),'that took place in',terror.loc[terror['Killed'].idxmax()].Country)\n"
   ]
  },
  {
   "cell_type": "markdown",
   "metadata": {},
   "source": [
    "### Plotting the global terrorist activites trend on a time scale :\n",
    "\n"
   ]
  },
  {
   "cell_type": "code",
   "execution_count": 9,
   "metadata": {},
   "outputs": [
    {
     "data": {
      "image/png": "[encoded data removed]",
      "text/plain": [
       "<Figure size 1080x360 with 1 Axes>"
      ]
     },
     "metadata": {
      "needs_background": "light"
     },
     "output_type": "display_data"
    }
   ],
   "source": [
    "plt.subplots(figsize=(15,5))\n",
    "sns.countplot('Year',data=terror)\n",
    "plt.xticks(rotation=90)\n",
    "plt.title('Number Of Terrorist Activities Each Year')\n",
    "plt.show()"
   ]
  },
  {
   "cell_type": "markdown",
   "metadata": {},
   "source": [
    "* ##### From the above graph, its very clear that the global terrorist activities hit a lowest point at the end of 19th century. But all of a sudden, it hiked to a wooping 18,000 mark in 2014."
   ]
  },
  {
   "cell_type": "markdown",
   "metadata": {},
   "source": [
    "### Most Active Terrorist Group "
   ]
  },
  {
   "cell_type": "code",
   "execution_count": 10,
   "metadata": {},
   "outputs": [
    {
     "data": {
      "text/plain": [
       "Taliban                                             7478\n",
       "Islamic State of Iraq and the Levant (ISIL)         5613\n",
       "Shining Path (SL)                                   4555\n",
       "Farabundo Marti National Liberation Front (FMLN)    3351\n",
       "Al-Shabaab                                          3288\n",
       "Name: Group, dtype: int64"
      ]
     },
     "execution_count": 10,
     "metadata": {},
     "output_type": "execute_result"
    }
   ],
   "source": [
    "terror['Group'].value_counts()[1:6]\n"
   ]
  },
  {
   "cell_type": "markdown",
   "metadata": {},
   "source": [
    "### Top Active Terrorist Groups\n"
   ]
  },
  {
   "cell_type": "code",
   "execution_count": 11,
   "metadata": {},
   "outputs": [
    {
     "data": {
      "image/png": "[encoded data removed]",
      "text/plain": [
       "<Figure size 648x432 with 1 Axes>"
      ]
     },
     "metadata": {
      "needs_background": "light"
     },
     "output_type": "display_data"
    }
   ],
   "source": [
    "f, ax = plt.subplots(figsize=(9, 6)) \n",
    "\n",
    "bx=sns.barplot( y = terror['Group'].value_counts()[1:6].index,\n",
    "            x = terror['Group'].value_counts()[1:6].values,\n",
    "                palette=\"plasma\")\n",
    "ax.set_ylabel('')\n",
    "ax.set_title('Active Terrorist Organizations' )\n",
    "for p in bx.patches:\n",
    "    bx.annotate(\"%.f\" % p.get_width(), xy=(p.get_width(), p.get_y()+p.get_height()/2),\n",
    "            xytext=(5, 0), textcoords='offset points', ha=\"left\", va=\"center\")\n",
    "plt.show()"
   ]
  },
  {
   "cell_type": "markdown",
   "metadata": {},
   "source": [
    "### Taliban Group and their attacked Locations"
   ]
  },
  {
   "cell_type": "code",
   "execution_count": 12,
   "metadata": {},
   "outputs": [
    {
     "data": {
      "image/png": "[encoded data removed]",
      "text/plain": [
       "<Figure size 1080x360 with 2 Axes>"
      ]
     },
     "metadata": {
      "needs_background": "light"
     },
     "output_type": "display_data"
    }
   ],
   "source": [
    "terror_group = terror[terror['Group'] == \"Taliban\"]\n",
    "terror_group = terror_group.groupby(['Country','Year'])['Group'].count().unstack()\n",
    "terror_group = terror_group.sort_values([2016], ascending=False)\n",
    "terror_group = terror_group.fillna(0)\n",
    "f, ax = plt.subplots(figsize=(15, 5)) \n",
    "g = sns.heatmap(terror_group[0:3],cmap='winter_r',linewidths=.5,vmin=0.05)\n",
    "plt.show()"
   ]
  },
  {
   "cell_type": "markdown",
   "metadata": {},
   "source": [
    "* #### Taliban has waged a war against Afghanistan and the number of attacks have been increased in last few years\n"
   ]
  },
  {
   "cell_type": "markdown",
   "metadata": {},
   "source": [
    "### Attack Types\n"
   ]
  },
  {
   "cell_type": "code",
   "execution_count": 13,
   "metadata": {},
   "outputs": [
    {
     "ename": "NameError",
     "evalue": "name 'go' is not defined",
     "output_type": "error",
     "traceback": [
      "\u001b[1;31m---------------------------------------------------------------------------\u001b[0m",
      "\u001b[1;31mNameError\u001b[0m                                 Traceback (most recent call last)",
      "\u001b[1;32m<ipython-input-13-ef37ddb5670e>\u001b[0m in \u001b[0;36m<module>\u001b[1;34m\u001b[0m\n\u001b[0;32m      6\u001b[0m \u001b[0my\u001b[0m \u001b[1;33m=\u001b[0m \u001b[0mattack_types\u001b[0m\u001b[1;33m.\u001b[0m\u001b[0mvalue_counts\u001b[0m\u001b[1;33m(\u001b[0m\u001b[1;33m)\u001b[0m\u001b[1;33m.\u001b[0m\u001b[0mvalues\u001b[0m\u001b[1;33m\u001b[0m\u001b[1;33m\u001b[0m\u001b[0m\n\u001b[0;32m      7\u001b[0m \u001b[1;33m\u001b[0m\u001b[0m\n\u001b[1;32m----> 8\u001b[1;33m trace2 = go.Bar(\n\u001b[0m\u001b[0;32m      9\u001b[0m         \u001b[0mx\u001b[0m\u001b[1;33m=\u001b[0m\u001b[0mx\u001b[0m \u001b[1;33m,\u001b[0m\u001b[1;33m\u001b[0m\u001b[1;33m\u001b[0m\u001b[0m\n\u001b[0;32m     10\u001b[0m         \u001b[0my\u001b[0m\u001b[1;33m=\u001b[0m\u001b[0my\u001b[0m\u001b[1;33m,\u001b[0m\u001b[1;33m\u001b[0m\u001b[1;33m\u001b[0m\u001b[0m\n",
      "\u001b[1;31mNameError\u001b[0m: name 'go' is not defined"
     ]
    }
   ],
   "source": [
    "attack_types =  pd.concat(objs=[terror['AttackType'], \n",
    "                                    terror['attacktype2_txt'],\n",
    "                                    terror['attacktype3_txt']],\n",
    "                     axis=0).reset_index(drop=True)\n",
    "x = attack_types.value_counts().index\n",
    "y = attack_types.value_counts().values\n",
    "\n",
    "trace2 = go.Bar(\n",
    "        x=x ,\n",
    "        y=y,\n",
    "        marker=dict(\n",
    "            color=y,\n",
    "            colorscale = 'Viridis',\n",
    "            reversescale = True\n",
    "        ),\n",
    "        name=\"Attack types\",    \n",
    "    )\n",
    "layout = dict(\n",
    "        title=\"Attack types\",\n",
    "        xaxis=go.layout.XAxis(\n",
    "          automargin=True),\n",
    "        yaxis=dict(\n",
    "            showgrid=False,\n",
    "            showline=False,\n",
    "            showticklabels=True,\n",
    "        ), \n",
    "    )\n",
    "fig1 = go.Figure(data=[trace2], layout=layout)\n",
    "iplot(fig1)\n"
   ]
  },
  {
   "cell_type": "markdown",
   "metadata": {},
   "source": [
    "* ###### Bombing and explosions plays a major role in terrorist attacks and  followed by armed assualt and Assassination.    This indicates the misuse of science and technolgy against Humanity.\n",
    "\n"
   ]
  },
  {
   "cell_type": "markdown",
   "metadata": {},
   "source": [
    "### Different Claiming modes used to assume responsibility of the attacks\n"
   ]
  },
  {
   "cell_type": "code",
   "execution_count": null,
   "metadata": {},
   "outputs": [],
   "source": [
    "#terror['claimmode_txt'].value_counts()\n",
    "f, ax = plt.subplots(figsize=(9, 6)) \n",
    "bx=sns.barplot( y = terror['claimmode_txt'].value_counts().index,\n",
    "            x = terror['claimmode_txt'].value_counts().values,\n",
    "                palette=\"YlOrRd_r\")\n",
    "for p in bx.patches:\n",
    "    bx.annotate(\"%.f\" % p.get_width(), xy=(p.get_width(), p.get_y()+p.get_height()/2),\n",
    "            xytext=(5, 0), textcoords='offset points', ha=\"left\", va=\"center\")\n",
    "\n",
    "ax.set_ylabel('')\n",
    "ax.set_title('Different modes used to assume responsibility of the attacks by Terrorists' );\n"
   ]
  },
  {
   "cell_type": "markdown",
   "metadata": {},
   "source": [
    "* ###### The most claiming is done thorugh personal announcement or through posting online"
   ]
  },
  {
   "cell_type": "markdown",
   "metadata": {},
   "source": [
    "### Weapons used\n"
   ]
  },
  {
   "cell_type": "code",
   "execution_count": null,
   "metadata": {},
   "outputs": [],
   "source": [
    "weaponTypes =  pd.concat(objs=[terror['Weapon_type'], \n",
    "                                    terror['weaptype2_txt'],\n",
    "                                    terror['weaptype3_txt'],\n",
    "                                    terror['weaptype4_txt']],\n",
    "                     axis=0).reset_index(drop=True)\n",
    "x = weaponTypes.value_counts().index\n",
    "y = weaponTypes.value_counts().values\n",
    "\n",
    "trace2 = go.Bar(\n",
    "        x=x ,\n",
    "        y=y,\n",
    "        marker=dict(\n",
    "            color=y,\n",
    "            colorscale = 'Viridis',\n",
    "            reversescale = True\n",
    "        ),\n",
    "        name=\"Weapons used\",    \n",
    "    )\n",
    "layout = dict(\n",
    "        title=\"Weapons used\",\n",
    "        xaxis=go.layout.XAxis(\n",
    "          automargin=True),\n",
    "        yaxis=dict(\n",
    "            showgrid=False,\n",
    "            showline=False,\n",
    "            showticklabels=True,\n",
    "        ), \n",
    "    )\n",
    "fig1 = go.Figure(data=[trace2], layout=layout)\n",
    "iplot(fig1)\n"
   ]
  },
  {
   "cell_type": "markdown",
   "metadata": {},
   "source": [
    "* ###### Most Bombing/Explosion has been made use of Explosives and Firearms"
   ]
  },
  {
   "cell_type": "markdown",
   "metadata": {},
   "source": [
    "### Suicide attacks conducted by various Terrorist organizations\n"
   ]
  },
  {
   "cell_type": "code",
   "execution_count": null,
   "metadata": {},
   "outputs": [],
   "source": [
    "terror_filter = terror[terror['suicide'] == 1]\n",
    "terror_filter = terror_filter.groupby(['Group','Year'])['Group'].count().unstack()\n",
    "terror_filter = terror_filter[[2000,2001,2002,2003,2004,2005,2006,2007,2008,2009,2010,2011,2012,2012,2013,2014,2015,2016]]\n",
    "terror_filter = terror_filter.sort_values([2016], ascending=False)\n",
    "terror_filter = terror_filter.fillna(0)\n",
    "f, ax = plt.subplots(figsize=(15, 10)) \n",
    "g = sns.heatmap(terror_filter[0:5],annot=True,fmt=\"2.0f\",cmap='YlGnBu',linewidths=.5,vmin=0.01)\n",
    "plt.show()\n"
   ]
  },
  {
   "cell_type": "markdown",
   "metadata": {},
   "source": [
    "ISIL , Boko Haram and Taliban are the deadlist organizations World has ever witnessed . Look at the increasing numbers of suicide attacks from year 2013 till 2016 which is a worrying factor and it is likely to increase further."
   ]
  },
  {
   "cell_type": "markdown",
   "metadata": {},
   "source": [
    "### Most Affected Target\n"
   ]
  },
  {
   "cell_type": "code",
   "execution_count": null,
   "metadata": {},
   "outputs": [],
   "source": [
    "targetTypes =  pd.concat(objs=[terror['Target_type'], \n",
    "                                    terror['targtype2_txt'],\n",
    "                                    terror['targtype3_txt']],\n",
    "                     axis=0).reset_index(drop=True)\n",
    "x = targetTypes.value_counts().index\n",
    "y = targetTypes.value_counts().values\n",
    "\n",
    "trace2 = go.Bar(\n",
    "        x=x ,\n",
    "        y=y,\n",
    "        marker=dict(\n",
    "            color=y,\n",
    "            colorscale = 'Viridis',\n",
    "            reversescale = True\n",
    "        ),\n",
    "        name=\"Who sufferred the most\",    \n",
    "    )\n",
    "layout = dict(\n",
    "        title=\"Who sufferred the most\",\n",
    "        #width = 900, height = 500,\n",
    "        xaxis=go.layout.XAxis(\n",
    "          automargin=True),\n",
    "        yaxis=dict(\n",
    "            showgrid=False,\n",
    "            showline=False,\n",
    "            showticklabels=True,\n",
    "    #         domain=[0, 0.85],\n",
    "        ), \n",
    "    )\n",
    "fig1 = go.Figure(data=[trace2], layout=layout)\n",
    "iplot(fig1)\n"
   ]
  },
  {
   "cell_type": "markdown",
   "metadata": {},
   "source": [
    "* Irony here is that innocent people are the catagory that get affected the most. The reason may be that the normal people are the easiest targets while political leaders will always be in the highest security\n",
    "* Followed by Military and Police who are always in duty to protect the private cotizens and their property"
   ]
  },
  {
   "cell_type": "markdown",
   "metadata": {},
   "source": [
    "### Terrorist Acts against Private Citizens & Property\n"
   ]
  },
  {
   "cell_type": "code",
   "execution_count": null,
   "metadata": {},
   "outputs": [],
   "source": [
    "terror_filter = terror[terror['Target_type'] == \"Private Citizens & Property\"]\n",
    "terror_count = terror_filter.groupby(['Country'])['Target_type'].count()\n",
    "countries = pd.DataFrame({'country':terror_count.index,'number':terror_count.values })\n",
    "data = [dict(\n",
    "    type='choropleth',\n",
    "    locations=countries['country'],\n",
    "    locationmode='country names',\n",
    "    z=countries['number'],\n",
    "    text=countries['country'],\n",
    "    colorscale='Viridis',\n",
    "    #reversescale=True,\n",
    "    marker=dict(line=dict(color='rgb(180,180,180)', width=0.9)),\n",
    "    colorbar = {'title': 'No of incidents'},\n",
    "    \n",
    ")]\n",
    "layout = dict(\n",
    "    title='No of incidents across the world to disrupt Private Citizens & Property',autosize=True,\n",
    "           # width=1000, height=700,\n",
    "    geo=dict(showframe=False,  projection=dict(type='mercator'),)\n",
    "    \n",
    ")\n",
    "fig = go.Figure(data=data, layout=layout)\n",
    "\n",
    "fig.update_layout(height=700, margin={\"r\":1,\"t\":0,\"l\":0,\"b\":0})\n",
    "#fig.show()\n",
    "iplot(fig)"
   ]
  },
  {
   "cell_type": "markdown",
   "metadata": {},
   "source": [
    "* ###### Highest number of civilians are targeted in Iran followed by Paskiathan ,India, Afganisthan"
   ]
  },
  {
   "cell_type": "markdown",
   "metadata": {},
   "source": [
    "### Terrorist Acts against Military \n"
   ]
  },
  {
   "cell_type": "code",
   "execution_count": null,
   "metadata": {},
   "outputs": [],
   "source": [
    "terror_filter = terror[terror['Target_type'] == \"Military\"]\n",
    "terror_filter = terror_filter.groupby(['Country'])['Target_type'].count()\n",
    "data =  dict(\n",
    "        type = 'choropleth',\n",
    "        locations = terror_filter.index,\n",
    "        locationmode = 'country names',\n",
    "        z = terror_filter.values,\n",
    "        text = terror_filter.index,\n",
    "        colorscale='Viridis',\n",
    "        reversescale=True,\n",
    "        marker=dict(line=dict(color='rgb(180,180,180)', width=0.5)),\n",
    "        colorbar = {'title': 'No of incidents'})\n",
    "\n",
    "layout = dict( title = 'No of incidents across the world to oppose their own Military',\n",
    "         geo = dict(showframe = False,\n",
    "         projection = {'type' : 'mercator'}))\n",
    "\n",
    "choromap3 = go.Figure(data = [data],layout=layout)\n",
    "choromap3.update_layout(height=700, margin={\"r\":1,\"t\":0,\"l\":0,\"b\":0})\n",
    "\n",
    "iplot(choromap3)"
   ]
  },
  {
   "cell_type": "markdown",
   "metadata": {},
   "source": [
    "* As always Iran is first here in attacks over Military followed by India , Pakistan and Afganistan has seen thousands of terrorists act which is a worrying factor"
   ]
  },
  {
   "cell_type": "markdown",
   "metadata": {},
   "source": [
    "### Extent of Property Damage over the Years across all the countries\n"
   ]
  },
  {
   "cell_type": "code",
   "execution_count": null,
   "metadata": {},
   "outputs": [],
   "source": [
    "terror_filter = terror[terror['propextent_txt'] == \"Catastrophic (likely >= $1 billion)\"]\n",
    "terror_filter = terror_filter[['Country','propvalue','Year']]\n",
    "terror_filter = terror_filter.fillna(terror_filter.propvalue.mean())\n",
    "terror_filter = terror_filter.groupby(['Country','Year'])['propvalue'].sum().unstack()\n",
    "terror_filter = terror_filter.fillna(0)\n",
    "f, ax = plt.subplots(figsize=(12,3)) \n",
    "g = sns.heatmap(terror_filter,cmap='YlGnBu',linewidths=.5,vmin=0.01)\n",
    "plt.show()"
   ]
  },
  {
   "cell_type": "markdown",
   "metadata": {},
   "source": [
    "9/11 attack in USA in the Year 2001 is the deadliest attack ever since 1970\n",
    "\n"
   ]
  },
  {
   "cell_type": "markdown",
   "metadata": {},
   "source": [
    "### Extent of Property Damage over the Years across the globe\n"
   ]
  },
  {
   "cell_type": "code",
   "execution_count": null,
   "metadata": {},
   "outputs": [],
   "source": [
    "terror_filter = terror[terror['propextent_txt'] == \"Major (likely >= $1 million but < $1 billion)\"]\n",
    "terror_filter = terror_filter[['city','Group','propvalue','Year']]\n",
    "terror_filter = terror_filter.fillna(terror_filter.propvalue.mean())\n",
    "terror_filter = terror_filter.sort_values(['Year'], ascending=False)\n",
    "terror_filter = terror_filter.groupby(['Year'])['propvalue'].sum()\n",
    "data = [\n",
    "    {\n",
    "        'x': terror_filter.index,\n",
    "        'y': terror_filter.values,\n",
    "        'mode': 'lines',\n",
    "        'marker': {\n",
    "            'sizemode': 'area',\n",
    " #           'sizeref': 'sizeref',\n",
    "           }\n",
    "    }\n",
    "]\n",
    "iplot(data)\n"
   ]
  },
  {
   "cell_type": "markdown",
   "metadata": {},
   "source": [
    "We see a ups and down in the graph , can we assume that great amount time is spent by terrorist organizations for mass destruction just before the peaks in this"
   ]
  },
  {
   "cell_type": "markdown",
   "metadata": {},
   "source": [
    "### Contries having  more Casualities :\n",
    "\n"
   ]
  },
  {
   "cell_type": "code",
   "execution_count": null,
   "metadata": {},
   "outputs": [],
   "source": [
    "# Creating new feature \"Casualities\" by adding \"Killed\" and \"Wounded\" features\n",
    "terror['casualities']=terror['Killed']+terror['Wounded']"
   ]
  },
  {
   "cell_type": "code",
   "execution_count": null,
   "metadata": {},
   "outputs": [],
   "source": [
    "terror_casualities= terror[terror['casualities'] <100]\n",
    "\n",
    "terror_count = terror_casualities.groupby(['Country'])['casualities'].count()\n",
    "countries = pd.DataFrame({'country':terror_count.index,'number':terror_count.values })\n",
    "data = [dict(\n",
    "    type='choropleth',\n",
    "    locations=countries['country'],\n",
    "    locationmode='country names',\n",
    "    z=countries['number'],\n",
    "    text=countries['country'],\n",
    "    colorscale='emrld',\n",
    "    marker=dict(line=dict(color='rgb(180,100,100)', width=0.9)),\n",
    "    colorbar = {'title': 'No of terror casualities'},\n",
    "    \n",
    ")]\n",
    "layout = dict(\n",
    "    title='No of incidents across the world to disrupt Casualities',autosize=True,\n",
    "    geo=dict(showframe=False,  projection=dict(type='mercator'),)\n",
    "    \n",
    ")\n",
    "fig = go.Figure(data=data, layout=layout)\n",
    "\n",
    "fig.update_layout(height=700, margin={\"r\":1,\"t\":0,\"l\":0,\"b\":0})\n",
    "#fig.show()\n",
    "iplot(fig)"
   ]
  },
  {
   "cell_type": "markdown",
   "metadata": {},
   "source": [
    "### Terrorist Attacks by Region"
   ]
  },
  {
   "cell_type": "code",
   "execution_count": null,
   "metadata": {},
   "outputs": [],
   "source": [
    "plt.subplots(figsize=(15,5))\n",
    "ax=sns.countplot('Region',data=terror,order=terror['Region'].value_counts().index)\n",
    "plt.xticks(rotation=90)\n",
    "plt.title('Number Of Terrorist Activities Each Region')\n",
    "for p in ax.patches:\n",
    "    ax.annotate(format(p.get_height()), (p.get_x()+0.15, p.get_height()+1))\n",
    "plt.show()\n",
    "plt.show()"
   ]
  },
  {
   "cell_type": "markdown",
   "metadata": {},
   "source": [
    "* Middle East and North Africa has highest number of attacks followed by south asia amd south america"
   ]
  },
  {
   "cell_type": "markdown",
   "metadata": {},
   "source": [
    "### Regions with terrorist attacks worldwide over years (1970-2010)"
   ]
  },
  {
   "cell_type": "code",
   "execution_count": null,
   "metadata": {},
   "outputs": [],
   "source": [
    "terror_region=pd.crosstab(terror.Year,terror.Region)\n",
    "terror_region.plot(color=sns.color_palette('Set1',12))\n",
    "fig=plt.gcf()\n",
    "plt.title('Number Of Terrorist Activities Each Region over years(1970-2010)')\n",
    "fig.set_size_inches(18,6)\n",
    "plt.show()"
   ]
  },
  {
   "cell_type": "markdown",
   "metadata": {},
   "source": [
    "Middle east, North Africa, South Asia are the top most affected regions by terrorism. In this chart also we can see a complete drop in the global terrorism rate at the end of 19th century and peak after 2013."
   ]
  },
  {
   "cell_type": "markdown",
   "metadata": {},
   "source": [
    "## Time Series analysis for target Types in Top 10 countries\n"
   ]
  },
  {
   "cell_type": "markdown",
   "metadata": {},
   "source": [
    "#### Time Series analysis for target Type:- Private Citizens & Property\n"
   ]
  },
  {
   "cell_type": "code",
   "execution_count": null,
   "metadata": {},
   "outputs": [],
   "source": [
    "terror_filter = terror[terror['Target_type'] == \"Private Citizens & Property\"]\n",
    "terror_filter = terror_filter.groupby(['Country','Year'])['Target_type'].count().unstack()\n",
    "\n",
    "terror_filter = terror_filter.sort_values([2016], ascending=False)\n",
    "terror_filter = terror_filter.fillna(0)\n",
    "f, ax = plt.subplots(figsize=(15, 5)) \n",
    "g = sns.heatmap(terror_filter[0:10],cmap='YlGnBu',linewidths=.5,vmin=0.01)\n",
    "plt.show()\n"
   ]
  },
  {
   "cell_type": "markdown",
   "metadata": {},
   "source": [
    "### Top countries affected by terrorism\n"
   ]
  },
  {
   "cell_type": "code",
   "execution_count": null,
   "metadata": {},
   "outputs": [],
   "source": [
    "coun_terror=terror['Country'].value_counts()[:10].to_frame() \n",
    "coun_terror.columns=['Number of Attacks']\n",
    "coun_terror\n",
    "ax=coun_terror.plot.bar()\n",
    "fig=plt.gcf()\n",
    "plt.title('Top countries affected by Terrorist Activities')\n",
    "for p in ax.patches:\n",
    "    ax.annotate(format(p.get_height()), (p.get_x()+0.15, p.get_height()+1))\n",
    "\n",
    "fig.set_size_inches(20,8)\n"
   ]
  },
  {
   "cell_type": "markdown",
   "metadata": {},
   "source": [
    "We can see Iraq , Afaganistan and its neighbouring countries are constantly topping the chart"
   ]
  },
  {
   "cell_type": "markdown",
   "metadata": {},
   "source": [
    "We are going to plot number of attacks and number of casualities in a bar chat for every significant country :\n",
    "\n"
   ]
  },
  {
   "cell_type": "markdown",
   "metadata": {},
   "source": [
    "We are going to plot number of attacks and number of casualities in a bar chat for every significant country :\n",
    "\n"
   ]
  },
  {
   "cell_type": "markdown",
   "metadata": {},
   "source": [
    "# We are going to plot number of attacks and number of casualities in a bar chat for every significant country :\n",
    "\n"
   ]
  },
  {
   "cell_type": "markdown",
   "metadata": {},
   "source": [
    "### Number of attacks and deaths in the countries"
   ]
  },
  {
   "cell_type": "code",
   "execution_count": null,
   "metadata": {},
   "outputs": [],
   "source": [
    "# This will give the number of people killed in every country collectively\n",
    "coun_kill=terror.groupby('Country')['Killed'].sum().to_frame() \n",
    "# This will merge the coun_terror and coun_kill datasets \n",
    "# and give top 20 countries with no of attacks and no of people killed \n",
    "attack_kill = coun_terror.merge(coun_kill,left_index=True,right_index=True,how='left')\n"
   ]
  },
  {
   "cell_type": "code",
   "execution_count": null,
   "metadata": {},
   "outputs": [],
   "source": [
    "# Plotting the same on a bar chart\n",
    "ax=attack_kill.plot.bar()\n",
    "for p in ax.patches:\n",
    "    ax.annotate(format(p.get_height()), (p.get_x(), p.get_height()+0.05))\n",
    "fig=plt.gcf()\n",
    "fig.set_size_inches(18,6)"
   ]
  },
  {
   "cell_type": "markdown",
   "metadata": {},
   "source": [
    "###  1.Top 5 Indian Cities who has seen the terrorist acts the most\n"
   ]
  },
  {
   "cell_type": "code",
   "execution_count": null,
   "metadata": {},
   "outputs": [],
   "source": [
    "terror_filter = terror[terror['Target_type'] == \"Private Citizens & Property\"]\n",
    "terror_filter = terror[terror['Country'] == \"India\"]\n",
    "terror_filter = terror_filter[['city','latitude','longitude']]\n",
    "terror_filter = terror_filter[terror_filter['city']!='Unknown' ]\n",
    "data = terror_filter[['city','latitude','longitude']]\n",
    "terror_filter = terror_filter.drop_duplicates(subset=None, keep='first', inplace=False)\n",
    "data_city = pd.DataFrame({\n",
    "    'city':data['city'].value_counts().index,\n",
    "   'value':data['city'].value_counts().values\n",
    "})\n",
    "data = [\n",
    "    {\n",
    "        'x': data_city['city'][0:5].values,\n",
    "        'y': data_city['value'][0:5].values,\n",
    "        'mode': 'markers',\n",
    "        'marker': {\n",
    "            'sizemode': 'area',\n",
    "         #   'sizeref': 'sizeref',\n",
    "            'size': data_city['value'][0:5]\n",
    "              }\n",
    "    }\n",
    "]\n",
    "iplot(data)\n"
   ]
  },
  {
   "cell_type": "code",
   "execution_count": null,
   "metadata": {},
   "outputs": [],
   "source": [
    "City_State = pd.merge(data_city, terror_filter, how='left', left_on='city', right_on='city')\n",
    "City_State = City_State.drop_duplicates(subset='city', keep='first', inplace=False)\n",
    "count = City_State['value'].values\n",
    "m = folium.Map(location=[28,81], tiles=\"stamentoner\", zoom_start=4)\n",
    "for i in range(0,5):\n",
    "   folium.Circle(\n",
    "      location=[City_State.iloc[i]['latitude'], City_State.iloc[i]['longitude']],\n",
    "      #location=[20, 81],\n",
    "      popup=City_State.iloc[i]['city'],\n",
    "      radius=int(count[i])*300,\n",
    "      color='crimson',\n",
    "      fill=True,\n",
    "      fill_color='crimson'\n",
    "   ).add_to(m)\n",
    "m"
   ]
  },
  {
   "cell_type": "markdown",
   "metadata": {},
   "source": [
    "### 2. Top 5 Cities from Iraq who has seen the terrorist acts the most\n"
   ]
  },
  {
   "cell_type": "code",
   "execution_count": null,
   "metadata": {},
   "outputs": [],
   "source": [
    "terror_filter = terror[terror['Target_type'] == \"Private Citizens & Property\"]\n",
    "terror_filter = terror[terror['Country'] == \"Iraq\"]\n",
    "terror_filter = terror_filter[['city','latitude','longitude']]\n",
    "terror_filter = terror_filter[terror_filter['city']!='Unknown' ]\n",
    "data = terror_filter[['city','latitude','longitude']]\n",
    "terror_filter = terror_filter.drop_duplicates(subset=None, keep='first', inplace=False)\n",
    "data_city = pd.DataFrame({\n",
    "    'city':data['city'].value_counts().index,\n",
    "   'value':data['city'].value_counts().values\n",
    "})\n",
    "data = [\n",
    "    {\n",
    "        'x': data_city['city'][0:5].values,\n",
    "        'y': data_city['value'][0:5].values,\n",
    "        'mode': 'markers',\n",
    "        'marker': {\n",
    "            'sizemode': 'area',\n",
    "   #         'sizeref': 'sizeref',\n",
    "            'size': data_city['value'][0:5]\n",
    "              }\n",
    "    }\n",
    "]\n",
    "iplot(data)\n",
    "\n"
   ]
  },
  {
   "cell_type": "code",
   "execution_count": null,
   "metadata": {},
   "outputs": [],
   "source": [
    "City_State = pd.merge(data_city, terror_filter, how='left', left_on='city', right_on='city')\n",
    "City_State = City_State.drop_duplicates(subset='city', keep='first', inplace=False)\n",
    "City_State = City_State.dropna()\n",
    "count = City_State['value'].values\n",
    "m = folium.Map(location=[33,44], tiles=\"stamentoner\", zoom_start=6)\n",
    "for i in range(0,5):\n",
    "   folium.Circle(\n",
    "      location=[City_State.iloc[i]['latitude'], City_State.iloc[i]['longitude']],\n",
    "      #location=[20, 81],\n",
    "      popup=City_State.iloc[i]['city'],\n",
    "      radius=int(count[i])*20,\n",
    "      color='crimson',\n",
    "      fill=True,\n",
    "      fill_color='crimson'\n",
    "   ).add_to(m)\n",
    "m"
   ]
  },
  {
   "cell_type": "markdown",
   "metadata": {},
   "source": [
    "### Total number of injuries in top 10 Cities\n"
   ]
  },
  {
   "cell_type": "code",
   "execution_count": null,
   "metadata": {},
   "outputs": [],
   "source": [
    "killed_terror = terror[['city','Wounded']]\n",
    "terror_filter = terror[['city','latitude','longitude']]\n",
    "terror_filter = terror_filter[terror_filter['city']!='Unknown' ]\n",
    "data = terror_filter[['city','latitude','longitude']]\n",
    "terror_filter = terror_filter.drop_duplicates(subset=None, keep='first', inplace=False)\n",
    "data_city = pd.DataFrame({\n",
    "    'city':killed_terror.dropna().groupby(['city'])['Wounded'].sum().index,\n",
    "   'value':killed_terror.dropna().groupby(['city'])['Wounded'].sum().values\n",
    "})\n",
    "\n",
    "data_city = data_city.sort_values(['value'], ascending=False)\n",
    "\n",
    "data = [\n",
    "    {\n",
    "        'x': data_city['city'][0:10].values,\n",
    "        'y': data_city['value'][0:10].values,\n",
    "        'mode': 'markers',\n",
    "        'marker': {\n",
    "            'sizemode': 'area',\n",
    "  #          'sizeref': 'sizeref',\n",
    "            'size': data_city['value'][0:10]\n",
    "              }\n",
    "    }\n",
    "]\n",
    "iplot(data)\n",
    "\n",
    "City_State = pd.merge(data_city, terror_filter, how='left', left_on='city', right_on='city')\n",
    "City_State = City_State.drop_duplicates(subset='city', keep='first', inplace=False)\n",
    "City_State = City_State.dropna()\n",
    "count = City_State['value'].values\n",
    "m = folium.Map(location=[28,2], tiles='stamentoner', zoom_start=2)\n",
    "for i in range(0,50):\n",
    "   folium.Circle(\n",
    "      location=[City_State.iloc[i]['latitude'], City_State.iloc[i]['longitude']],\n",
    "      #location=[20, 81],\n",
    "      popup=City_State.iloc[i]['city'],\n",
    "      radius=int(count[i])*20,\n",
    "      color='crimson',\n",
    "      fill=True,\n",
    "      fill_color='crimson'\n",
    "   ).add_to(m)\n",
    "m\n"
   ]
  },
  {
   "cell_type": "markdown",
   "metadata": {},
   "source": [
    "### Shifting interests of Terrorists thru Timeline of Wordclouds \n"
   ]
  },
  {
   "cell_type": "code",
   "execution_count": null,
   "metadata": {},
   "outputs": [],
   "source": [
    "years = [2011,2012,2013,2014,2015,2016]\n",
    "plt.figure(figsize=(14,15))\n",
    "gs = gridspec.GridSpec(4, 2)\n",
    "for i, cn in enumerate(years):\n",
    "    ax = plt.subplot(gs[i])\n",
    "    df_country = terror[terror['Year'] == cn]\n",
    "    country_motive = df_country['Motive'].str.lower().str.cat(sep=' ')\n",
    "    words=nltk.tokenize.word_tokenize(country_motive)\n",
    "    word_dist = nltk.FreqDist(words)\n",
    "    stopwords = nltk.corpus.stopwords.words('english')\n",
    "    words_except_stop_dist = nltk.FreqDist(w for w in words if w not in stopwords) \n",
    "    wordcloud = WordCloud(stopwords=STOPWORDS,background_color='white').generate(\" \".join(words_except_stop_dist))\n",
    "    ax.imshow(wordcloud)\n",
    "    ax.set_title('Year ' + str(cn) + ' at a glance' )\n",
    "    ax.axis('off')\n"
   ]
  },
  {
   "cell_type": "markdown",
   "metadata": {},
   "source": [
    "### Motive behind attacks on Iraq over the years (1970 to 2016 aggregated)"
   ]
  },
  {
   "cell_type": "code",
   "execution_count": null,
   "metadata": {},
   "outputs": [],
   "source": [
    "df_country = terror[terror['Country'] == 'Iraq']\n",
    "#df_country = df[df['iyear'] == 2014]\n",
    "country_motive = df_country['Motive'].str.lower().str.cat(sep=' ')\n",
    "words=nltk.tokenize.word_tokenize(country_motive)\n",
    "word_dist = nltk.FreqDist(words)\n",
    "stopwords = nltk.corpus.stopwords.words('english')\n",
    "words_except_stop_dist = nltk.FreqDist(w for w in words if w not in stopwords) \n",
    "wordcloud = WordCloud(stopwords=STOPWORDS,background_color='white').generate(\" \".join(words_except_stop_dist))\n",
    "plt.imshow(wordcloud)\n",
    "fig=plt.gcf()\n",
    "fig.set_size_inches(14,6)\n",
    "plt.axis('off')\n",
    "plt.show()"
   ]
  },
  {
   "cell_type": "markdown",
   "metadata": {},
   "source": [
    "### Motive behind attacks on USA over the years (1970 to 2016 aggregated)"
   ]
  },
  {
   "cell_type": "code",
   "execution_count": null,
   "metadata": {},
   "outputs": [],
   "source": [
    "df_country = terror[terror['Country'] == 'United States']\n",
    "#df_country = df[df['iyear'] == 2014]\n",
    "country_motive = df_country['Motive'].str.lower().str.cat(sep=' ')\n",
    "words=nltk.tokenize.word_tokenize(country_motive)\n",
    "word_dist = nltk.FreqDist(words)\n",
    "stopwords = nltk.corpus.stopwords.words('english')\n",
    "words_except_stop_dist = nltk.FreqDist(w for w in words if w not in stopwords) \n",
    "wordcloud = WordCloud(stopwords=STOPWORDS,background_color='white').generate(\" \".join(words_except_stop_dist))\n",
    "plt.imshow(wordcloud)\n",
    "fig=plt.gcf()\n",
    "fig.set_size_inches(14,6)\n",
    "plt.axis('off')\n",
    "plt.show()"
   ]
  },
  {
   "cell_type": "markdown",
   "metadata": {},
   "source": [
    "### Motive behind attacks on India over the years (1970 to 2016 aggregated)"
   ]
  },
  {
   "cell_type": "code",
   "execution_count": null,
   "metadata": {},
   "outputs": [],
   "source": [
    "df_country = terror[terror['Country'] == 'India']\n",
    "#df_country = df[df['iyear'] == 2014]\n",
    "country_motive = df_country['Motive'].str.lower().str.cat(sep=' ')\n",
    "words=nltk.tokenize.word_tokenize(country_motive)\n",
    "word_dist = nltk.FreqDist(words)\n",
    "stopwords = nltk.corpus.stopwords.words('english')\n",
    "words_except_stop_dist = nltk.FreqDist(w for w in words if w not in stopwords) \n",
    "wordcloud = WordCloud(stopwords=STOPWORDS,background_color='white').generate(\" \".join(words_except_stop_dist))\n",
    "plt.imshow(wordcloud)\n",
    "fig=plt.gcf()\n",
    "fig.set_size_inches(14,6)\n",
    "plt.axis('off')\n",
    "plt.show()"
   ]
  },
  {
   "cell_type": "markdown",
   "metadata": {},
   "source": [
    "# Observathions"
   ]
  },
  {
   "cell_type": "markdown",
   "metadata": {},
   "source": [
    "## 1)Hot zone of terrorism."
   ]
  },
  {
   "cell_type": "markdown",
   "metadata": {},
   "source": [
    "The Hot zones of Terrorism are in \n",
    "* Countries :Iraq, Afganisthan ,Paskistan,India, Colombia\n",
    "* Cities : Bhagdad, New york , Kabul,Mosul,Karachi\n",
    "* Regions : Middle east, North Africa, South Asia ,Sub-Saharan Africa"
   ]
  },
  {
   "cell_type": "markdown",
   "metadata": {},
   "source": [
    "## 2) security issues and insights:"
   ]
  },
  {
   "cell_type": "markdown",
   "metadata": {},
   "source": [
    "* Most of the targets are  innocent people and their property followed by Military and Police who are always in duty to protect the private citizens and their property\n",
    "* The most active group is Taliban which is generally adopting Bombing/Explosion and Armed Assault because they are facilitated with Explosives and Firearms \n",
    "* the most claiming mode is personal announcement or through posting online\n",
    "* Suicide attacks from year 2013 till 2016 which is a worrying factor and it is likely to increase further.\n",
    "* We can see Iraq , Afaganistan and its neighbouring countries are constantly topping the chart\n",
    "* By Word Cloud we can see Maosit ,Governemant, white, Protest are main resons for the attacks\n",
    "* From sentimental analysis, the most frequent word observed are \" muslims\",\"islamic\". It is common belief that terrorists are muslims but infact the most targetted and suffured by terrorism are muslims.Iran,Paskistan,Afganisthan are muslim dominat nations."
   ]
  }
 ],
 "metadata": {
  "kernelspec": {
   "display_name": "Python 3",
   "language": "python",
   "name": "python3"
  },
  "language_info": {
   "codemirror_mode": {
    "name": "ipython",
    "version": 3
   },
   "file_extension": ".py",
   "mimetype": "text/x-python",
   "name": "python",
   "nbconvert_exporter": "python",
   "pygments_lexer": "ipython3",
   "version": "3.9.2"
  }
 },
 "nbformat": 4,
 "nbformat_minor": 2
}
